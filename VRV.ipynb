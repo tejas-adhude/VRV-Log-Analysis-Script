{
 "cells": [
  {
   "cell_type": "code",
   "execution_count": 1,
   "metadata": {},
   "outputs": [],
   "source": [
    "# un-comment the below line if pandas is not installed\n",
    "\n",
    "# ! pip install pandas"
   ]
  },
  {
   "cell_type": "code",
   "execution_count": 2,
   "metadata": {},
   "outputs": [],
   "source": [
    "import pandas as pd"
   ]
  },
  {
   "cell_type": "code",
   "execution_count": 3,
   "metadata": {},
   "outputs": [],
   "source": [
    "## Function to extract the data from line of log file\n",
    "def extract_info(line):\n",
    "    try:\n",
    "        line_split= line.split()\n",
    "        ip = line_split[0]\n",
    "        datetime = line.split(\"[\")[1].split(\"]\")[0]\n",
    "        method, url, version = line.split('\"')[1].split(\" \")\n",
    "        if line_split[-1].isnumeric():\n",
    "            size = line_split[-1]\n",
    "            status = line_split[-2]\n",
    "            extra_info = None\n",
    "        else:\n",
    "            extra_info = line_split[-2].split('\"')[1]+\" \"+line_split[-1].split('\"')[0]\n",
    "            size = line_split[-3]\n",
    "            status = line_split[-4]\n",
    "       \n",
    "        data = {\n",
    "            \"IP Address\": ip,\n",
    "            \"datetime\": datetime,\n",
    "            \"method\": method,\n",
    "            \"url\": url,\n",
    "            \"version\": version,\n",
    "            \"status\": status,\n",
    "            \"size\": size,\n",
    "            \"extra_info\": extra_info\n",
    "        }\n",
    "        return data\n",
    "    except Exception as e:\n",
    "        print(f\"Error parsing line: {line}\\n{e}\")\n",
    "        return None"
   ]
  },
  {
   "cell_type": "code",
   "execution_count": 4,
   "metadata": {},
   "outputs": [],
   "source": [
    "## Function to create the generator of extraced data from each line in log file\n",
    "def perform_data_extraction(file_path,extract_info):\n",
    "    try:\n",
    "        with open(file_path, 'r') as log_file:\n",
    "            for line in log_file:\n",
    "                yield extract_info(line)\n",
    "    except FileNotFoundError:\n",
    "        print(\"File not found.\")"
   ]
  },
  {
   "cell_type": "code",
   "execution_count": 5,
   "metadata": {},
   "outputs": [],
   "source": [
    "## Function to count request per ip \n",
    "def count_requests(data_df):\n",
    "    # using group by and aggregation to count request per id\n",
    "    ip_request_count = data_df.groupby('IP Address').size().reset_index(name='Request Count')\n",
    "    ip_request_count.sort_values(by='Request Count', ascending=False, inplace=True)\n",
    "    \n",
    "    # output for request per id\n",
    "    ip_request_count.to_csv(\"Requests per IP.csv\",index=False)\n",
    "    print(\"Requests Per Ip:\")\n",
    "    print(ip_request_count)"
   ]
  },
  {
   "cell_type": "code",
   "execution_count": 6,
   "metadata": {},
   "outputs": [],
   "source": [
    "## Function to find most access endpoint\n",
    "def most_access_endpoint(data_df):\n",
    "    url_request_count = data_df.groupby('url').size().reset_index(name='Request Count')\n",
    "    most_accessed_url = url_request_count.sort_values(by='Request Count', ascending=False).iloc[0]\n",
    "    \n",
    "    # output for \n",
    "    df = pd.DataFrame({\n",
    "        \"Endpoint\":[most_accessed_url['url']],\n",
    "        \"Access Count\":[most_accessed_url['Request Count']]\n",
    "        })\n",
    "    df.to_csv(\"Most Accessed Endpoint.csv\",index=False)\n",
    "    \n",
    "    print(\"Most Frequently Accessed Endpoint:\")\n",
    "    print(df)"
   ]
  },
  {
   "cell_type": "code",
   "execution_count": 7,
   "metadata": {},
   "outputs": [],
   "source": [
    "## Function to count the suspicious activity\n",
    "def detect_suspicious(data_df,threshold=10):\n",
    "    failed_logins = data_df[(data_df['status'] == 401) | (data_df['extra_info'] == 'Invalid credentials')]\n",
    "    failed_login_counts = failed_logins.groupby('IP Address').size().reset_index(name='Failed Login Attempts')\n",
    "    \n",
    "    # Filter by threshold\n",
    "    flagged_ips = failed_login_counts[failed_login_counts['Failed Login Attempts'] > threshold]\n",
    "    \n",
    "    flagged_ips.sort_values(by='Failed Login Attempts', ascending=False, inplace=True)\n",
    "\n",
    "    if not flagged_ips.empty:\n",
    "        print(\"Suspicious Activity Detected:\")\n",
    "        print(flagged_ips)\n",
    "        flagged_ips.to_csv(\"Suspicious Activity.csv\",index=False)\n",
    "    else:\n",
    "        print(\"No Suspicious Activity Detected.\")"
   ]
  },
  {
   "cell_type": "code",
   "execution_count": 8,
   "metadata": {},
   "outputs": [],
   "source": [
    "## File path\n",
    "file_path=\"sample.log\""
   ]
  },
  {
   "cell_type": "code",
   "execution_count": 9,
   "metadata": {},
   "outputs": [],
   "source": [
    "## convert the log data, into pandas df , with tokens\n",
    "extracted_data = perform_data_extraction(file_path,extract_info)\n",
    "extracted_df = pd.DataFrame(extracted_data)"
   ]
  },
  {
   "cell_type": "code",
   "execution_count": 10,
   "metadata": {},
   "outputs": [
    {
     "name": "stdout",
     "output_type": "stream",
     "text": [
      "Requests Per Ip:\n",
      "      IP Address  Request Count\n",
      "3  198.51.100.23              8\n",
      "4    203.0.113.5              8\n",
      "1    192.168.1.1              7\n",
      "0       10.0.0.2              6\n",
      "2  192.168.1.100              5\n"
     ]
    }
   ],
   "source": [
    "## Request per ip\n",
    "count_requests(extracted_df)"
   ]
  },
  {
   "cell_type": "code",
   "execution_count": 11,
   "metadata": {},
   "outputs": [
    {
     "name": "stdout",
     "output_type": "stream",
     "text": [
      "Most Frequently Accessed Endpoint:\n",
      "  Endpoint  Access Count\n",
      "0   /login            13\n"
     ]
    }
   ],
   "source": [
    "## Most frquently access endpoint\n",
    "most_access_endpoint(extracted_df)"
   ]
  },
  {
   "cell_type": "code",
   "execution_count": 12,
   "metadata": {},
   "outputs": [
    {
     "name": "stdout",
     "output_type": "stream",
     "text": [
      "Suspicious Activity Detected:\n",
      "      IP Address  Failed Login Attempts\n",
      "1    203.0.113.5                      8\n",
      "0  192.168.1.100                      5\n"
     ]
    }
   ],
   "source": [
    "## Detect Suspicious Activity\n",
    "# using threshold = 0\n",
    "detect_suspicious(extracted_df,threshold=0)"
   ]
  }
 ],
 "metadata": {
  "kernelspec": {
   "display_name": "aiml",
   "language": "python",
   "name": "python3"
  },
  "language_info": {
   "codemirror_mode": {
    "name": "ipython",
    "version": 3
   },
   "file_extension": ".py",
   "mimetype": "text/x-python",
   "name": "python",
   "nbconvert_exporter": "python",
   "pygments_lexer": "ipython3",
   "version": "3.12.3"
  }
 },
 "nbformat": 4,
 "nbformat_minor": 2
}
